{
 "cells": [
  {
   "cell_type": "markdown",
   "id": "4445c52b",
   "metadata": {},
   "source": [
    "Previous version used specific input with unnecessary parameters.\n"
   ]
  },
  {
   "cell_type": "code",
   "execution_count": 1,
   "id": "fcc30eaa",
   "metadata": {},
   "outputs": [],
   "source": [
    "%autoreload 2\n",
    "import os,sys\n",
    "from pathlib import Path\n",
    "sys.path.append(str(Path(os.getcwd())))\n",
    "sys.path.append(str(Path(os.getcwd())/'data'))"
   ]
  },
  {
   "cell_type": "code",
   "execution_count": 2,
   "id": "3ffd74cd",
   "metadata": {},
   "outputs": [],
   "source": [
    "import pandas as pd\n",
    "import tracking"
   ]
  },
  {
   "cell_type": "code",
   "execution_count": 3,
   "id": "505e49e8",
   "metadata": {},
   "outputs": [
    {
     "data": {
      "text/html": [
       "<div>\n",
       "<style scoped>\n",
       "    .dataframe tbody tr th:only-of-type {\n",
       "        vertical-align: middle;\n",
       "    }\n",
       "\n",
       "    .dataframe tbody tr th {\n",
       "        vertical-align: top;\n",
       "    }\n",
       "\n",
       "    .dataframe thead th {\n",
       "        text-align: right;\n",
       "    }\n",
       "</style>\n",
       "<table border=\"1\" class=\"dataframe\">\n",
       "  <thead>\n",
       "    <tr style=\"text-align: right;\">\n",
       "      <th></th>\n",
       "      <th>personId</th>\n",
       "      <th>agentId</th>\n",
       "      <th>centroids</th>\n",
       "      <th>reid</th>\n",
       "      <th>startTime</th>\n",
       "      <th>endTime</th>\n",
       "      <th>gender</th>\n",
       "      <th>color</th>\n",
       "      <th>duration</th>\n",
       "    </tr>\n",
       "  </thead>\n",
       "  <tbody>\n",
       "    <tr>\n",
       "      <th>0</th>\n",
       "      <td>da122825-9a60-45a1-aaf0-90d8e8da8ab1</td>\n",
       "      <td>11</td>\n",
       "      <td>[[0.183, 0.629, 1682315218.0], [0.183, 0.636, ...</td>\n",
       "      <td>[0.3967658281326294, 0.03422684222459793, -0.3...</td>\n",
       "      <td>2023-04-24 05:46:58+00:00</td>\n",
       "      <td>2023-04-24 05:47:03+00:00</td>\n",
       "      <td>M</td>\n",
       "      <td>[[#262329, 5541], [#f8f8f8, 3534]]</td>\n",
       "      <td>5</td>\n",
       "    </tr>\n",
       "    <tr>\n",
       "      <th>1</th>\n",
       "      <td>307a2114-38fc-4a76-9247-d9cf5b8cd459</td>\n",
       "      <td>11</td>\n",
       "      <td>[[0.381, 0.531, 1682316414.0], [0.391, 0.536, ...</td>\n",
       "      <td>[0.1996729075908661, -0.28791889548301697, -0....</td>\n",
       "      <td>2023-04-24 06:06:54+00:00</td>\n",
       "      <td>2023-04-24 06:07:05+00:00</td>\n",
       "      <td>M</td>\n",
       "      <td>[[#faf9f9, 2758], [#29262c, 6317]]</td>\n",
       "      <td>11</td>\n",
       "    </tr>\n",
       "    <tr>\n",
       "      <th>2</th>\n",
       "      <td>1c305617-86f4-4b10-aa6c-0df8a809b058</td>\n",
       "      <td>11</td>\n",
       "      <td>[[0.952, 0.665, 1682315077.0], [0.914, 0.672, ...</td>\n",
       "      <td>[-0.13868625462055206, 0.31281670928001404, -0...</td>\n",
       "      <td>2023-04-24 05:44:37+00:00</td>\n",
       "      <td>2023-04-24 05:44:42+00:00</td>\n",
       "      <td>F</td>\n",
       "      <td>[[#503936, 6146], [#f9f1ee, 2929]]</td>\n",
       "      <td>5</td>\n",
       "    </tr>\n",
       "    <tr>\n",
       "      <th>3</th>\n",
       "      <td>357d1886-89d9-477b-b6f6-abb7bcbebe21</td>\n",
       "      <td>11</td>\n",
       "      <td>[[0.28, 0.985, 1682316015.0], [0.562, 0.957, 1...</td>\n",
       "      <td>[-0.029412630945444107, 0.5562960505485535, 0....</td>\n",
       "      <td>2023-04-24 06:00:15+00:00</td>\n",
       "      <td>2023-04-24 06:00:21+00:00</td>\n",
       "      <td>M</td>\n",
       "      <td>[[#332f31, 7571], [#f9f8f8, 1504]]</td>\n",
       "      <td>6</td>\n",
       "    </tr>\n",
       "    <tr>\n",
       "      <th>4</th>\n",
       "      <td>81930ae9-5fbd-44d3-ad01-fb4704424137</td>\n",
       "      <td>11</td>\n",
       "      <td>[[0.331, 0.988, 1682315483.0], [0.353, 0.928, ...</td>\n",
       "      <td>[-0.1322261095046997, 0.11921624094247818, -0....</td>\n",
       "      <td>2023-04-24 05:51:23+00:00</td>\n",
       "      <td>2023-04-24 05:53:53+00:00</td>\n",
       "      <td>M</td>\n",
       "      <td>[[#2a2a32, 8364], [#eeeced, 711]]</td>\n",
       "      <td>150</td>\n",
       "    </tr>\n",
       "  </tbody>\n",
       "</table>\n",
       "</div>"
      ],
      "text/plain": [
       "                               personId  agentId  \\\n",
       "0  da122825-9a60-45a1-aaf0-90d8e8da8ab1       11   \n",
       "1  307a2114-38fc-4a76-9247-d9cf5b8cd459       11   \n",
       "2  1c305617-86f4-4b10-aa6c-0df8a809b058       11   \n",
       "3  357d1886-89d9-477b-b6f6-abb7bcbebe21       11   \n",
       "4  81930ae9-5fbd-44d3-ad01-fb4704424137       11   \n",
       "\n",
       "                                           centroids  \\\n",
       "0  [[0.183, 0.629, 1682315218.0], [0.183, 0.636, ...   \n",
       "1  [[0.381, 0.531, 1682316414.0], [0.391, 0.536, ...   \n",
       "2  [[0.952, 0.665, 1682315077.0], [0.914, 0.672, ...   \n",
       "3  [[0.28, 0.985, 1682316015.0], [0.562, 0.957, 1...   \n",
       "4  [[0.331, 0.988, 1682315483.0], [0.353, 0.928, ...   \n",
       "\n",
       "                                                reid  \\\n",
       "0  [0.3967658281326294, 0.03422684222459793, -0.3...   \n",
       "1  [0.1996729075908661, -0.28791889548301697, -0....   \n",
       "2  [-0.13868625462055206, 0.31281670928001404, -0...   \n",
       "3  [-0.029412630945444107, 0.5562960505485535, 0....   \n",
       "4  [-0.1322261095046997, 0.11921624094247818, -0....   \n",
       "\n",
       "                  startTime                   endTime gender  \\\n",
       "0 2023-04-24 05:46:58+00:00 2023-04-24 05:47:03+00:00      M   \n",
       "1 2023-04-24 06:06:54+00:00 2023-04-24 06:07:05+00:00      M   \n",
       "2 2023-04-24 05:44:37+00:00 2023-04-24 05:44:42+00:00      F   \n",
       "3 2023-04-24 06:00:15+00:00 2023-04-24 06:00:21+00:00      M   \n",
       "4 2023-04-24 05:51:23+00:00 2023-04-24 05:53:53+00:00      M   \n",
       "\n",
       "                                color  duration  \n",
       "0  [[#262329, 5541], [#f8f8f8, 3534]]         5  \n",
       "1  [[#faf9f9, 2758], [#29262c, 6317]]        11  \n",
       "2  [[#503936, 6146], [#f9f1ee, 2929]]         5  \n",
       "3  [[#332f31, 7571], [#f9f8f8, 1504]]         6  \n",
       "4   [[#2a2a32, 8364], [#eeeced, 711]]       150  "
      ]
     },
     "execution_count": 3,
     "metadata": {},
     "output_type": "execute_result"
    }
   ],
   "source": [
    "import samsung\n",
    "samsung.samsung_data.head()"
   ]
  },
  {
   "cell_type": "code",
   "execution_count": 4,
   "id": "23e72302",
   "metadata": {},
   "outputs": [],
   "source": [
    "test_data = [\n",
    "            {\"windows\": \"\", \"image_id\": \"image_id\", \"location\": \"mac\", \"camera_id\": \"camera-1\\r\", \"date_created\": 1533227583.0, \"id\": 1140, \"no_faces\": 0}\n",
    "        ,   {\"windows\": \"\", \"image_id\": \"image_id\", \"location\": \"mac\", \"camera_id\": \"camera-1\\r\", \"date_created\": 1533227584.0, \"id\": 1141, \"no_faces\": 0}\n",
    "        ,   {\"windows\": \"\", \"image_id\": \"image_id\", \"location\": \"mac\", \"camera_id\": \"camera-1\\r\", \"date_created\": 1533227585.0, \"id\": 1142, \"no_faces\": 0}\n",
    "        ,   {\"windows\": \"\", \"image_id\": \"image_id\", \"location\": \"mac\", \"camera_id\": \"camera-1\\r\", \"date_created\": 1533227587.0, \"id\": 1143, \"no_faces\": 0}\n",
    "        ,   {\"windows\": \"\", \"image_id\": \"image_id\", \"location\": \"mac\", \"camera_id\": \"camera-1\\r\", \"date_created\": 1533227588.0, \"id\": 1144, \"no_faces\": 0}\n",
    "        ,   {\"windows\": \"\", \"image_id\": \"image_id\", \"location\": \"mac\", \"camera_id\": \"camera-1\\r\", \"date_created\": 1533227590.0, \"id\": 1145, \"no_faces\": 0}\n",
    "        ,   {\"windows\": \"\", \"image_id\": \"image_id\", \"location\": \"mac\", \"camera_id\": \"camera-1\\r\", \"date_created\": 1533227591.0, \"id\": 1146, \"no_faces\": 0}\n",
    "        ,   {\"windows\": \"348,241,669,562\", \"image_id\": \"image_id\", \"location\": \"mac\", \"camera_id\": \"camera-1\\r\", \"date_created\": 1533227749.0, \"id\": 1298, \"no_faces\": 1}\n",
    "        ,   {\"windows\": \"348,241,669,562\", \"image_id\": \"image_id\", \"location\": \"mac\", \"camera_id\": \"camera-1\\r\", \"date_created\": 1533227750.0, \"id\": 1299, \"no_faces\": 1}\n",
    "        ,   {\"windows\": \"348,241,669,562\", \"image_id\": \"image_id\", \"location\": \"mac\", \"camera_id\": \"camera-1\\r\", \"date_created\": 1533227753.0, \"id\": 1300, \"no_faces\": 1}\n",
    "        ,   {\"windows\": \"312,241,633,562\", \"image_id\": \"image_id\", \"location\": \"mac\", \"camera_id\": \"camera-1\\r\", \"date_created\": 1533227755.0, \"id\": 1301, \"no_faces\": 1}\n",
    "        ,   {\"windows\": \"974,290,1359,675\", \"image_id\": \"image_id\", \"location\": \"mac\", \"camera_id\": \"camera-1\\r\", \"date_created\": 1533227757.0, \"id\": 1302, \"no_faces\": 1}\n",
    "            ]"
   ]
  },
  {
   "cell_type": "code",
   "execution_count": 5,
   "id": "fb9847bc",
   "metadata": {},
   "outputs": [
    {
     "data": {
      "text/html": [
       "<div>\n",
       "<style scoped>\n",
       "    .dataframe tbody tr th:only-of-type {\n",
       "        vertical-align: middle;\n",
       "    }\n",
       "\n",
       "    .dataframe tbody tr th {\n",
       "        vertical-align: top;\n",
       "    }\n",
       "\n",
       "    .dataframe thead th {\n",
       "        text-align: right;\n",
       "    }\n",
       "</style>\n",
       "<table border=\"1\" class=\"dataframe\">\n",
       "  <thead>\n",
       "    <tr style=\"text-align: right;\">\n",
       "      <th></th>\n",
       "      <th>windows</th>\n",
       "      <th>image_id</th>\n",
       "      <th>location</th>\n",
       "      <th>camera_id</th>\n",
       "      <th>date_created</th>\n",
       "      <th>id</th>\n",
       "      <th>no_faces</th>\n",
       "    </tr>\n",
       "  </thead>\n",
       "  <tbody>\n",
       "    <tr>\n",
       "      <th>0</th>\n",
       "      <td></td>\n",
       "      <td>image_id</td>\n",
       "      <td>mac</td>\n",
       "      <td>camera-1\\r</td>\n",
       "      <td>1.533228e+09</td>\n",
       "      <td>1140</td>\n",
       "      <td>0</td>\n",
       "    </tr>\n",
       "    <tr>\n",
       "      <th>1</th>\n",
       "      <td></td>\n",
       "      <td>image_id</td>\n",
       "      <td>mac</td>\n",
       "      <td>camera-1\\r</td>\n",
       "      <td>1.533228e+09</td>\n",
       "      <td>1141</td>\n",
       "      <td>0</td>\n",
       "    </tr>\n",
       "    <tr>\n",
       "      <th>2</th>\n",
       "      <td></td>\n",
       "      <td>image_id</td>\n",
       "      <td>mac</td>\n",
       "      <td>camera-1\\r</td>\n",
       "      <td>1.533228e+09</td>\n",
       "      <td>1142</td>\n",
       "      <td>0</td>\n",
       "    </tr>\n",
       "    <tr>\n",
       "      <th>3</th>\n",
       "      <td></td>\n",
       "      <td>image_id</td>\n",
       "      <td>mac</td>\n",
       "      <td>camera-1\\r</td>\n",
       "      <td>1.533228e+09</td>\n",
       "      <td>1143</td>\n",
       "      <td>0</td>\n",
       "    </tr>\n",
       "    <tr>\n",
       "      <th>4</th>\n",
       "      <td></td>\n",
       "      <td>image_id</td>\n",
       "      <td>mac</td>\n",
       "      <td>camera-1\\r</td>\n",
       "      <td>1.533228e+09</td>\n",
       "      <td>1144</td>\n",
       "      <td>0</td>\n",
       "    </tr>\n",
       "    <tr>\n",
       "      <th>5</th>\n",
       "      <td></td>\n",
       "      <td>image_id</td>\n",
       "      <td>mac</td>\n",
       "      <td>camera-1\\r</td>\n",
       "      <td>1.533228e+09</td>\n",
       "      <td>1145</td>\n",
       "      <td>0</td>\n",
       "    </tr>\n",
       "    <tr>\n",
       "      <th>6</th>\n",
       "      <td></td>\n",
       "      <td>image_id</td>\n",
       "      <td>mac</td>\n",
       "      <td>camera-1\\r</td>\n",
       "      <td>1.533228e+09</td>\n",
       "      <td>1146</td>\n",
       "      <td>0</td>\n",
       "    </tr>\n",
       "    <tr>\n",
       "      <th>7</th>\n",
       "      <td>348,241,669,562</td>\n",
       "      <td>image_id</td>\n",
       "      <td>mac</td>\n",
       "      <td>camera-1\\r</td>\n",
       "      <td>1.533228e+09</td>\n",
       "      <td>1298</td>\n",
       "      <td>1</td>\n",
       "    </tr>\n",
       "    <tr>\n",
       "      <th>8</th>\n",
       "      <td>348,241,669,562</td>\n",
       "      <td>image_id</td>\n",
       "      <td>mac</td>\n",
       "      <td>camera-1\\r</td>\n",
       "      <td>1.533228e+09</td>\n",
       "      <td>1299</td>\n",
       "      <td>1</td>\n",
       "    </tr>\n",
       "    <tr>\n",
       "      <th>9</th>\n",
       "      <td>348,241,669,562</td>\n",
       "      <td>image_id</td>\n",
       "      <td>mac</td>\n",
       "      <td>camera-1\\r</td>\n",
       "      <td>1.533228e+09</td>\n",
       "      <td>1300</td>\n",
       "      <td>1</td>\n",
       "    </tr>\n",
       "    <tr>\n",
       "      <th>10</th>\n",
       "      <td>312,241,633,562</td>\n",
       "      <td>image_id</td>\n",
       "      <td>mac</td>\n",
       "      <td>camera-1\\r</td>\n",
       "      <td>1.533228e+09</td>\n",
       "      <td>1301</td>\n",
       "      <td>1</td>\n",
       "    </tr>\n",
       "    <tr>\n",
       "      <th>11</th>\n",
       "      <td>974,290,1359,675</td>\n",
       "      <td>image_id</td>\n",
       "      <td>mac</td>\n",
       "      <td>camera-1\\r</td>\n",
       "      <td>1.533228e+09</td>\n",
       "      <td>1302</td>\n",
       "      <td>1</td>\n",
       "    </tr>\n",
       "  </tbody>\n",
       "</table>\n",
       "</div>"
      ],
      "text/plain": [
       "             windows  image_id location   camera_id  date_created    id  \\\n",
       "0                     image_id      mac  camera-1\\r  1.533228e+09  1140   \n",
       "1                     image_id      mac  camera-1\\r  1.533228e+09  1141   \n",
       "2                     image_id      mac  camera-1\\r  1.533228e+09  1142   \n",
       "3                     image_id      mac  camera-1\\r  1.533228e+09  1143   \n",
       "4                     image_id      mac  camera-1\\r  1.533228e+09  1144   \n",
       "5                     image_id      mac  camera-1\\r  1.533228e+09  1145   \n",
       "6                     image_id      mac  camera-1\\r  1.533228e+09  1146   \n",
       "7    348,241,669,562  image_id      mac  camera-1\\r  1.533228e+09  1298   \n",
       "8    348,241,669,562  image_id      mac  camera-1\\r  1.533228e+09  1299   \n",
       "9    348,241,669,562  image_id      mac  camera-1\\r  1.533228e+09  1300   \n",
       "10   312,241,633,562  image_id      mac  camera-1\\r  1.533228e+09  1301   \n",
       "11  974,290,1359,675  image_id      mac  camera-1\\r  1.533228e+09  1302   \n",
       "\n",
       "    no_faces  \n",
       "0          0  \n",
       "1          0  \n",
       "2          0  \n",
       "3          0  \n",
       "4          0  \n",
       "5          0  \n",
       "6          0  \n",
       "7          1  \n",
       "8          1  \n",
       "9          1  \n",
       "10         1  \n",
       "11         1  "
      ]
     },
     "execution_count": 5,
     "metadata": {},
     "output_type": "execute_result"
    }
   ],
   "source": [
    "pd.DataFrame.from_records(test_data)"
   ]
  },
  {
   "cell_type": "code",
   "execution_count": 6,
   "id": "2ac57ba7",
   "metadata": {},
   "outputs": [
    {
     "data": {
      "text/plain": [
       "[id: 0 - coords: 348,241,669,562\n",
       "   lived 4 secs (1533227749.0 to 1533227753.0)\n",
       "   tracks: [2018-08-02T16:35:49 (348,241,669,562), 2018-08-02T16:35:50 (348,241,669,562), 2018-08-02T16:35:53 (348,241,669,562)]]"
      ]
     },
     "execution_count": 6,
     "metadata": {},
     "output_type": "execute_result"
    }
   ],
   "source": [
    "tracking.track_objects(test_data)"
   ]
  },
  {
   "cell_type": "code",
   "execution_count": 7,
   "id": "e684ff01",
   "metadata": {},
   "outputs": [],
   "source": [
    "history = tracking.track_objects(test_data)"
   ]
  },
  {
   "cell_type": "code",
   "execution_count": 8,
   "id": "baf91a74",
   "metadata": {},
   "outputs": [],
   "source": [
    "def centroid(coords):\n",
    "    y1,x1,y2,x2 = coords\n",
    "    return (y1+(y2-y1)/2 , x1+(x2-x1)/2)"
   ]
  },
  {
   "cell_type": "code",
   "execution_count": 9,
   "id": "8634eac0",
   "metadata": {},
   "outputs": [],
   "source": [
    "start,mid,end = [centroid(x.coords) for x in history[0].tracks]"
   ]
  },
  {
   "cell_type": "code",
   "execution_count": 10,
   "id": "61b13467",
   "metadata": {},
   "outputs": [],
   "source": [
    "t0,t1,t2 = [x.timestamp for x in history[0].tracks]"
   ]
  },
  {
   "cell_type": "code",
   "execution_count": 11,
   "id": "01e33a11",
   "metadata": {},
   "outputs": [
    {
     "data": {
      "text/plain": [
       "((508.5, 401.5), (508.5, 401.5), (508.5, 401.5))"
      ]
     },
     "execution_count": 11,
     "metadata": {},
     "output_type": "execute_result"
    }
   ],
   "source": [
    "start,mid,end"
   ]
  },
  {
   "cell_type": "code",
   "execution_count": 12,
   "id": "708489c7",
   "metadata": {},
   "outputs": [
    {
     "data": {
      "text/plain": [
       "0.0"
      ]
     },
     "execution_count": 12,
     "metadata": {},
     "output_type": "execute_result"
    }
   ],
   "source": [
    "(end[0]-start[0])**2"
   ]
  }
 ],
 "metadata": {
  "kernelspec": {
   "display_name": "Python 3 (ipykernel)",
   "language": "python",
   "name": "python3"
  },
  "language_info": {
   "codemirror_mode": {
    "name": "ipython",
    "version": 3
   },
   "file_extension": ".py",
   "mimetype": "text/x-python",
   "name": "python",
   "nbconvert_exporter": "python",
   "pygments_lexer": "ipython3",
   "version": "3.8.16"
  }
 },
 "nbformat": 4,
 "nbformat_minor": 5
}
